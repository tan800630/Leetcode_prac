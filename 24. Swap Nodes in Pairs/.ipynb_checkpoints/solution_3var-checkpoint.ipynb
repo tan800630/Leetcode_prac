{
 "cells": [
  {
   "cell_type": "code",
   "execution_count": 1,
   "metadata": {},
   "outputs": [],
   "source": [
    "# Definition for singly-linked list.\n",
    "class ListNode:\n",
    "    def __init__(self, x):\n",
    "        self.val = x\n",
    "        self.next = None\n",
    "\n",
    "def ls2ln(ls):\n",
    "    head = c = ListNode(0)\n",
    "    for i in ls:\n",
    "        c.next = ListNode(i)\n",
    "        c = c.next\n",
    "    \n",
    "    return head.next\n",
    "\n",
    "def ln2ls(ln):\n",
    "    ls = [ln.val]\n",
    "    \n",
    "    while ln.next:\n",
    "        ln = ln.next\n",
    "        ls.append(ln.val)\n",
    "        \n",
    "    return ls"
   ]
  },
  {
   "cell_type": "code",
   "execution_count": 2,
   "metadata": {},
   "outputs": [],
   "source": [
    "class Solution:\n",
    "    def swapPairs(self, head: ListNode) -> ListNode:\n",
    "        \n",
    "        c_head = c0 = ListNode(0)\n",
    "        c0.next = head\n",
    "        \n",
    "        while c0.next and c0.next.next:\n",
    "            \n",
    "            c1 = c0.next\n",
    "            c2 = c1.next\n",
    "            \n",
    "            #swap\n",
    "            \n",
    "            # 先將Linklist前端與交換後的第一個node接上\n",
    "            c0.next = c2\n",
    "            \n",
    "            # 接上後前端以串起來，因此交接處可以往後跳一格\n",
    "            c0 = c0.next\n",
    "            \n",
    "            # 將交接處後一位記錄下來，注意此為上一版解法中原本 c3 所記錄的位置\n",
    "            c2 = c0.next\n",
    "            \n",
    "            # 將交換後的第二個node接上\n",
    "            c0.next = c1\n",
    "            \n",
    "            # 將第二個node與Linklist後端接上\n",
    "            c1.next = c2\n",
    "            \n",
    "            # 移動c0，繼續尋找後面有沒有兩個或以上的node\n",
    "            c0 = c0.next\n",
    "        \n",
    "        return c_head.next"
   ]
  },
  {
   "cell_type": "markdown",
   "metadata": {},
   "source": [
    "## Example"
   ]
  },
  {
   "cell_type": "code",
   "execution_count": 3,
   "metadata": {},
   "outputs": [
    {
     "data": {
      "text/plain": [
       "[2, 1, 4, 3]"
      ]
     },
     "execution_count": 3,
     "metadata": {},
     "output_type": "execute_result"
    }
   ],
   "source": [
    "ls = [1,2,3,4]\n",
    "\n",
    "ans = Solution().swapPairs(ls2ln(ls))\n",
    "\n",
    "ln2ls(ans)\n",
    "# should be [2,1,4,3]"
   ]
  },
  {
   "cell_type": "markdown",
   "metadata": {},
   "source": [
    "![acceptance](./pics/acceptance_3loc.PNG)"
   ]
  }
 ],
 "metadata": {
  "kernelspec": {
   "display_name": "Python 3",
   "language": "python",
   "name": "python3"
  },
  "language_info": {
   "codemirror_mode": {
    "name": "ipython",
    "version": 3
   },
   "file_extension": ".py",
   "mimetype": "text/x-python",
   "name": "python",
   "nbconvert_exporter": "python",
   "pygments_lexer": "ipython3",
   "version": "3.6.8"
  }
 },
 "nbformat": 4,
 "nbformat_minor": 2
}
