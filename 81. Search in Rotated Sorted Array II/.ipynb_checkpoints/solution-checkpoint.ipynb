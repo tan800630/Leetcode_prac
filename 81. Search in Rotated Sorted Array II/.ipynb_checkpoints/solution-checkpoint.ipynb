{
 "cells": [
  {
   "cell_type": "code",
   "execution_count": 2,
   "metadata": {},
   "outputs": [],
   "source": [
    "class Solution:\n",
    "    def search(self, nums, target) -> bool:\n",
    "        \n",
    "        s, t = 0, len(nums) - 1\n",
    "\n",
    "        while s<=t:\n",
    "            \n",
    "            # 判斷是否鄰近數字為相同數字，若是則要調整 s t 的位置\n",
    "            if s < t and nums[s]==nums[s+1]:\n",
    "                s+=1\n",
    "                continue\n",
    "                \n",
    "            elif s < t and nums[t]==nums[t-1]:\n",
    "                t-=1\n",
    "                continue\n",
    "            \n",
    "            #開始 binary search + (請見Q.33)\n",
    "            \n",
    "            i = int((t+s)/2)\n",
    "\n",
    "            \n",
    "            if nums[i]==target:\n",
    "                return True\n",
    "            \n",
    "            # if middle >= head\n",
    "            elif nums[i] >= nums[0]:\n",
    "                \n",
    "                # if middle > target    and   target >= head\n",
    "                if nums[i] > target and target >= nums[0]:\n",
    "                    t = i - 1\n",
    "                \n",
    "                # otherwise\n",
    "                else:\n",
    "                    s = i + 1\n",
    "            \n",
    "            # if middle < head\n",
    "            else:\n",
    "                \n",
    "                if nums[i] < target and target < nums[0]:\n",
    "                    s = i + 1\n",
    "                \n",
    "                else:\n",
    "                    t = i - 1\n",
    "            \n",
    "        return False"
   ]
  },
  {
   "cell_type": "markdown",
   "metadata": {},
   "source": [
    "## Example 1"
   ]
  },
  {
   "cell_type": "code",
   "execution_count": 3,
   "metadata": {},
   "outputs": [
    {
     "data": {
      "text/plain": [
       "True"
      ]
     },
     "execution_count": 3,
     "metadata": {},
     "output_type": "execute_result"
    }
   ],
   "source": [
    "s = [2,5,6,0,0,1,2]\n",
    "target = 0\n",
    "Solution().search(s, target)\n",
    "\n",
    "# should be True"
   ]
  },
  {
   "cell_type": "code",
   "execution_count": 4,
   "metadata": {},
   "outputs": [
    {
     "data": {
      "text/plain": [
       "False"
      ]
     },
     "execution_count": 4,
     "metadata": {},
     "output_type": "execute_result"
    }
   ],
   "source": [
    "s = [2,5,6,0,0,1,2]\n",
    "target = 3\n",
    "Solution().search(s, target)\n",
    "\n",
    "# should be False"
   ]
  },
  {
   "cell_type": "markdown",
   "metadata": {},
   "source": [
    "![acceptance](./pics/acceptance.PNG)"
   ]
  }
 ],
 "metadata": {
  "kernelspec": {
   "display_name": "Python 3",
   "language": "python",
   "name": "python3"
  },
  "language_info": {
   "codemirror_mode": {
    "name": "ipython",
    "version": 3
   },
   "file_extension": ".py",
   "mimetype": "text/x-python",
   "name": "python",
   "nbconvert_exporter": "python",
   "pygments_lexer": "ipython3",
   "version": "3.6.8"
  }
 },
 "nbformat": 4,
 "nbformat_minor": 2
}
