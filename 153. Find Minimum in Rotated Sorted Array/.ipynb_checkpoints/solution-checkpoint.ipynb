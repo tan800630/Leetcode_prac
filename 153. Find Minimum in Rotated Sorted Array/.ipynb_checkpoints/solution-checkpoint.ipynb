{
 "cells": [
  {
   "cell_type": "code",
   "execution_count": 1,
   "metadata": {},
   "outputs": [],
   "source": [
    "class Solution:\n",
    "    def findMin(self, nums) -> int:\n",
    "        \n",
    "        s, t = 0, len(nums) - 1\n",
    "        \n",
    "        if nums[s] < nums[t]:\n",
    "            return nums[s]\n",
    "        \n",
    "        while s+1<t:\n",
    "            \n",
    "            i = int((s+t)/2)\n",
    "            \n",
    "            if nums[i] > nums[s]:\n",
    "                \n",
    "                if nums[s] < nums[i+1]:\n",
    "                    s = i + 1\n",
    "                else:\n",
    "                    return nums[i+1]\n",
    "            \n",
    "            else:\n",
    "                \n",
    "                if nums[t] > nums[i - 1]:\n",
    "                    t = i - 1\n",
    "                else:\n",
    "                    return nums[i]\n",
    "        \n",
    "        return nums[t]"
   ]
  },
  {
   "cell_type": "markdown",
   "metadata": {},
   "source": [
    "## Example 1"
   ]
  },
  {
   "cell_type": "code",
   "execution_count": 2,
   "metadata": {},
   "outputs": [
    {
     "data": {
      "text/plain": [
       "1"
      ]
     },
     "execution_count": 2,
     "metadata": {},
     "output_type": "execute_result"
    }
   ],
   "source": [
    "s = [3,4,5,1,2] \n",
    "Solution().findMin(s)\n",
    "\n",
    "# should be 1"
   ]
  },
  {
   "cell_type": "markdown",
   "metadata": {},
   "source": [
    "## Example 2"
   ]
  },
  {
   "cell_type": "code",
   "execution_count": 3,
   "metadata": {},
   "outputs": [
    {
     "data": {
      "text/plain": [
       "0"
      ]
     },
     "execution_count": 3,
     "metadata": {},
     "output_type": "execute_result"
    }
   ],
   "source": [
    "s = [4,5,6,7,0,1,2]\n",
    "Solution().findMin(s)\n",
    "\n",
    "# should be 0"
   ]
  },
  {
   "cell_type": "markdown",
   "metadata": {},
   "source": [
    "![acceptance](./pics/acceptance.PNG)"
   ]
  }
 ],
 "metadata": {
  "kernelspec": {
   "display_name": "Python 3",
   "language": "python",
   "name": "python3"
  },
  "language_info": {
   "codemirror_mode": {
    "name": "ipython",
    "version": 3
   },
   "file_extension": ".py",
   "mimetype": "text/x-python",
   "name": "python",
   "nbconvert_exporter": "python",
   "pygments_lexer": "ipython3",
   "version": "3.6.8"
  }
 },
 "nbformat": 4,
 "nbformat_minor": 2
}
