{
 "cells": [
  {
   "cell_type": "code",
   "execution_count": 132,
   "metadata": {},
   "outputs": [],
   "source": [
    "class Solution:\n",
    "    def search(self, nums, target) -> int:\n",
    "        \n",
    "        s, t = 0, len(nums) - 1\n",
    "\n",
    "        while s<=t:\n",
    "            \n",
    "            i = int((t+s)/2)\n",
    "            \n",
    "            if nums[i]==target:\n",
    "                return i\n",
    "            \n",
    "            # if middle >= head\n",
    "            elif nums[i] >= nums[0]:\n",
    "                \n",
    "                # if middle > target    and   target >= head\n",
    "                if nums[i] > target and target >= nums[0]:\n",
    "                    t = i - 1\n",
    "                \n",
    "                # otherwise\n",
    "                else:\n",
    "                    s = i + 1\n",
    "            \n",
    "            # if middle < head\n",
    "            else:\n",
    "                \n",
    "                if nums[i] < target and target < nums[0]:\n",
    "                    s = i + 1\n",
    "                \n",
    "                else:\n",
    "                    t = i - 1\n",
    "            \n",
    "        return -1"
   ]
  },
  {
   "cell_type": "markdown",
   "metadata": {},
   "source": [
    "## Example 1"
   ]
  },
  {
   "cell_type": "code",
   "execution_count": 133,
   "metadata": {},
   "outputs": [
    {
     "data": {
      "text/plain": [
       "4"
      ]
     },
     "execution_count": 133,
     "metadata": {},
     "output_type": "execute_result"
    }
   ],
   "source": [
    "s = [4,5,6,7,0,1,2]\n",
    "target = 0\n",
    "Solution().search(s, target)\n",
    "\n",
    "# should be 4"
   ]
  },
  {
   "cell_type": "markdown",
   "metadata": {},
   "source": [
    "## Example 2"
   ]
  },
  {
   "cell_type": "code",
   "execution_count": 134,
   "metadata": {},
   "outputs": [
    {
     "data": {
      "text/plain": [
       "-1"
      ]
     },
     "execution_count": 134,
     "metadata": {},
     "output_type": "execute_result"
    }
   ],
   "source": [
    "s = [4,5,6,7,0,1,2]\n",
    "target = 3\n",
    "Solution().search(s, target)\n",
    "\n",
    "# should be -1"
   ]
  },
  {
   "cell_type": "markdown",
   "metadata": {},
   "source": [
    "![acceptance](./pics/acceptance.PNG)"
   ]
  }
 ],
 "metadata": {
  "kernelspec": {
   "display_name": "Python 3",
   "language": "python",
   "name": "python3"
  },
  "language_info": {
   "codemirror_mode": {
    "name": "ipython",
    "version": 3
   },
   "file_extension": ".py",
   "mimetype": "text/x-python",
   "name": "python",
   "nbconvert_exporter": "python",
   "pygments_lexer": "ipython3",
   "version": "3.6.8"
  }
 },
 "nbformat": 4,
 "nbformat_minor": 2
}
